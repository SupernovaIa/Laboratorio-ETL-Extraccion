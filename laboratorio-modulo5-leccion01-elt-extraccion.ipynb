{
 "cells": [
  {
   "cell_type": "markdown",
   "metadata": {},
   "source": [
    "\n",
    "<div style=\"text-align: center;\">\n",
    "  <img src=\"https://github.com/Hack-io-Data/Imagenes/blob/main/01-LogosHackio/logo_amarillo@4x.png?raw=true\" alt=\"esquema\" />\n",
    "</div>"
   ]
  },
  {
   "cell_type": "markdown",
   "metadata": {},
   "source": [
    "\n",
    "# Laboratorio ETL: Análisis del Sistema Energético en España\n",
    "\n",
    "## Objetivo\n",
    "\n",
    "Durante todos los laboratorios de esta semana realizarás un proceso completo de ETL para analizar la relación entre la demanda, el consumo y la generación eléctrica en diferentes provincias de España a lo largo de un año. Además, complementarán este análisis con datos demográficos y económicos extraídos del Instituto Nacional de Estadística (INE). El **objetivo principal** del análisis es **examinar cómo la demanda, el consumo y la generación eléctrica en diferentes provincias de España a lo largo de los años están influenciados por factores demográficos y económicos, como la población y el PIB provincial**. El análisis busca identificar patrones y correlaciones entre estas variables para comprender mejor las dinámicas energéticas regionales y su relación con el desarrollo socioeconómico en España.\n",
    "\n",
    "Antes de realizar el análisis, vamos a definir las hipótesis con las que vamos a trabajar, las cuales definirán todo tu análisis y planteamiento de los laboratorios: \n",
    "\n",
    "- **Hipótesis 1: La demanda eléctrica está correlacionada con la población de la provincia.** Provincias con mayor población tienden a tener una mayor demanda eléctrica.\n",
    "  \n",
    "- **Hipótesis 2: El crecimiento económico (medido por el PIB) está correlacionado con la demanda eléctrica.** Las provincias con un PIB más alto o en crecimiento experimentan una mayor demanda de energía.\n",
    "\n",
    "- **Hipótesis 3: La proporción de generación renovable está relacionada con factores económicos o geográficos.** Provincias con un mayor desarrollo económico o con condiciones geográficas favorables (como más horas de sol o viento) tienden a generar más energía renovable.\n",
    "\n",
    "\n",
    "## Tareas Laboratorio Extracción\n",
    "\n",
    "En el laboratorio de hoy tendrás que extraer la información necesaria para obtener tu objetivo de las siguientes fuentes de datos (deberás usar API's y herramientas de *web scrapping*):\n",
    "\n",
    "- **Datos de la API de Red Eléctrica Española (REE):** Deberás extraer datos mensuales a nivel provincial de los siguientes aspectos:\n",
    "\n",
    "  - **Demanda Eléctrica:** Nos proporciona los datos de demanda eléctrica a nivel provincial, agregados de manera mensual. Tendrás que usar el endpoint de \"https://apidatos.ree.es/es/datos/demanda/evolucion\", añadiendo los parámetros que sean necesarios. \n",
    "\n",
    "  - **Generación Eléctrica:** Nos proporciona los datos de generación eléctrica a nivel provincial, diferenciando entre fuentes de energía (eólica, solar, hidroeléctrica, etc.), agregados de manera mensual. Tendrás que usar el endpoint de \"https://apidatos.ree.es/es/datos/generacion/estructura-renovables\", añadiendo los parámetros que sean necesarios.\n",
    "\n",
    "  La documentación de la API la encontrarás en [este link](https://www.ree.es/es/apidatos). Recuerda leer en detenimiento la documentación. \n",
    "\n",
    "- **Datos del Instituto Nacional de Estadística (INE):** Además de los datos de la REE, debes extraer y utilizar datos socioeconómicos de las siguientes páginas del INE:\n",
    "\n",
    "- **Datos Demográficos:** Extraer los datos de población por provincias, diferenciando por grupos de edad, sexo, y extrajeros. Estos datos serán utilizados para analizar cómo la población afecta a la demanda eléctrica en cada provincia.\n",
    "\n",
    "  - **Página web:** [INE - Población por provincias](https://www.ine.es/dyngs/INEbase/es/operacion.htm?c=Estadistica_C&cid=1254736177012&menu=resultados&idp=1254734710990)\n",
    "\n",
    "  - \"Principales series 1998-2022\" --> \"Por provincia\" --> \" Población por provincias, edad (3 grupos de edad), españoles/Extranjeros, Sexo y año\"\n",
    "\n",
    "- **Datos Económicos:**\n",
    "\n",
    "  - **Página web:** [INE - PIB por provincias](https://www.ine.es/dynt3/inebase/es/index.htm?padre=10426&capsel=10429). \n",
    "\n",
    "  - **Pasos para la extracción**:\" Resultados provinciales. Serie contable 2016-2021\" --> \"P.I.B. a precios de mercado y valor añadido bruto a precios básicos por ramas de actividad: Precios corrientes por provincias y periodo.\"\n",
    "\n",
    "\n",
    "\n",
    "NOTA1: Tienes que sacar muchos datos, pero recuerda que hemos aprendido herramientas de asincronia que te pueden ayudar en este paso de la ETL. \n",
    "\n",
    "NOTA2: Todos estos datos los debes sacar para los años 2019-2020-2021"
   ]
  },
  {
   "cell_type": "code",
   "execution_count": 63,
   "metadata": {},
   "outputs": [],
   "source": [
    "# Para trabajar con ficheros\n",
    "# -----------------------------------------------------------------------\n",
    "import os\n",
    "import requests\n",
    "import json"
   ]
  },
  {
   "cell_type": "code",
   "execution_count": null,
   "metadata": {},
   "outputs": [],
   "source": [
    "from src.support import ine_datos_demograficos, ine_datos_economicos, cambiar_nombre"
   ]
  },
  {
   "cell_type": "markdown",
   "metadata": {},
   "source": [
    "### Ejecución para todos los años"
   ]
  },
  {
   "cell_type": "code",
   "execution_count": 9,
   "metadata": {},
   "outputs": [],
   "source": [
    "for anio in range(2019, 2022):\n",
    "\n",
    "    # Scrapear datos demográficos\n",
    "    ine_datos_demograficos(anio)\n",
    "    cambiar_nombre(anio, 'Demograficos')\n",
    "    # Scrapear datos económicos\n",
    "    ine_datos_economicos(anio)\n",
    "    cambiar_nombre(anio, 'Economicos')"
   ]
  },
  {
   "cell_type": "markdown",
   "metadata": {},
   "source": [
    "### Ejecución de extracción de API"
   ]
  },
  {
   "cell_type": "code",
   "execution_count": 31,
   "metadata": {},
   "outputs": [],
   "source": [
    "# Headers de la API\n",
    "headers = {\"Accept\": 'application/json',\n",
    "           \"Content-Type\": 'application/json',\n",
    "           \"Host\": 'apidatos.ree.es'}\n",
    "\n",
    "# Comunidades/ciudades autónomas\n",
    "id_comunidades = {'Ceuta': 8744,\n",
    "                    'Melilla': 8745,\n",
    "                    'Andalucía': 4,\n",
    "                    'Aragón': 5,\n",
    "                    'Cantabria': 6,\n",
    "                    'Castilla - La Mancha': 7,\n",
    "                    'Castilla y León': 8,\n",
    "                    'Cataluña': 9,\n",
    "                    'País Vasco': 10,\n",
    "                    'Principado de Asturias': 11,\n",
    "                    'Comunidad de Madrid': 13,\n",
    "                    'Comunidad Foral de Navarra': 14,\n",
    "                    'Comunitat Valenciana': 15,\n",
    "                    'Extremadura': 16,\n",
    "                    'Galicia': 17,\n",
    "                    'Illes Balears': 8743,\n",
    "                    'Canarias': 8742,\n",
    "                    'Región de Murcia': 21,\n",
    "                    'La Rioja': 20}"
   ]
  },
  {
   "cell_type": "code",
   "execution_count": 35,
   "metadata": {},
   "outputs": [],
   "source": [
    "# Definimos la ruta donde guardaremos los datos\n",
    "ruta_datos_demanda = '/Users/javi/Documents/Hackio/Laboratorios/Laboratorio-ETL-Extraccion/datos/demanda'\n",
    "\n",
    "# Creamos el directorio en caso de que no exista\n",
    "os.makedirs(ruta_datos_demanda, exist_ok= True)\n",
    "\n",
    "# Iteramos por comunidad\n",
    "for com_aut, geo_id in id_comunidades.items():\n",
    "\n",
    "    # Iteramos por año\n",
    "    for anio in range(2019, 2022):\n",
    "\n",
    "        # Definimos la sub-ruta para cada año\n",
    "        ruta_anios = os.path.join(ruta_datos_demanda, str(anio))\n",
    "        # Creamos la carpeta en caso de que no exista\n",
    "        os.makedirs(ruta_anios, exist_ok= True)\n",
    "        # Llamamos a la API\n",
    "        response = requests.get(f'https://apidatos.ree.es/es/datos/demanda/evolucion?start_date={anio}-01-01T00:00&end_date={anio}-12-31T23:59&time_trunc=month&geo_trunc=electric_system&geo_limit=ccaa&geo_ids={geo_id}', headers=headers)\n",
    "        \n",
    "        if response.status_code == 200:\n",
    "\n",
    "            # Si la petición es satisfactoria guardamos el resultado\n",
    "            result = response.json()\n",
    "            ruta_com_aut = os.path.join(ruta_anios, com_aut + '.json')\n",
    "            \n",
    "            with open(ruta_com_aut, \"w\") as archivo:\n",
    "                json.dump(result, archivo)\n",
    "\n",
    "        else:\n",
    "            print(f\"Ha ocurrido algún problema en {com_aut}, {anio}. Código {response.status_code}\")"
   ]
  },
  {
   "cell_type": "code",
   "execution_count": null,
   "metadata": {},
   "outputs": [],
   "source": [
    "# Definimos la ruta donde guardaremos los datos\n",
    "ruta_datos_generacion = '/Users/javi/Documents/Hackio/Laboratorios/Laboratorio-ETL-Extraccion/datos/generacion'\n",
    "\n",
    "# Creamos el directorio en caso de que no exista\n",
    "os.makedirs(ruta_datos_generacion, exist_ok= True)\n",
    "\n",
    "# Iteramos por comuni\n",
    "for com_aut, geo_id in id_comunidades.items():\n",
    "\n",
    "    for anio in range(2019, 2022):\n",
    "\n",
    "        # Definimos la sub-ruta para cada año\n",
    "        ruta_anios = os.path.join(ruta_datos_generacion, str(anio))\n",
    "        # Creamos la carpeta en caso de que no exista\n",
    "        os.makedirs(ruta_anios, exist_ok= True)\n",
    "        # Llamamos a la API\n",
    "        response = requests.get(f'https://apidatos.ree.es/es/datos/generacion/estructura-renovables?start_date={anio}-01-01T00:00&end_date={anio}-12-31T23:59&time_trunc=month&geo_trunc=electric_system&geo_limit=ccaa&geo_ids={geo_id}', headers=headers)\n",
    "        \n",
    "        if response.status_code == 200:\n",
    "\n",
    "            # Si la petición es satisfactoria guardamos el resultado\n",
    "            result = response.json()\n",
    "            ruta_com_aut = os.path.join(ruta_anios, com_aut + '.json')\n",
    "            \n",
    "            with open(ruta_com_aut, \"w\") as archivo:\n",
    "                json.dump(result, archivo)\n",
    "\n",
    "        else:\n",
    "            print(f\"Ha ocurrido algún problema en {com_aut}, {anio}. Código {response.status_code}\")"
   ]
  }
 ],
 "metadata": {
  "kernelspec": {
   "display_name": "proyecto5",
   "language": "python",
   "name": "python3"
  },
  "language_info": {
   "codemirror_mode": {
    "name": "ipython",
    "version": 3
   },
   "file_extension": ".py",
   "mimetype": "text/x-python",
   "name": "python",
   "nbconvert_exporter": "python",
   "pygments_lexer": "ipython3",
   "version": "3.12.7"
  }
 },
 "nbformat": 4,
 "nbformat_minor": 2
}
