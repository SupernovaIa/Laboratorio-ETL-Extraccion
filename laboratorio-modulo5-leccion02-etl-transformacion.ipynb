{
 "cells": [
  {
   "cell_type": "markdown",
   "metadata": {},
   "source": [
    "<div style=\"text-align: center;\">\n",
    "  <img src=\"https://github.com/Hack-io-Data/Imagenes/blob/main/01-LogosHackio/logo_amarillo@4x.png?raw=true\" alt=\"esquema\" />\n",
    "</div>"
   ]
  },
  {
   "cell_type": "markdown",
   "metadata": {},
   "source": [
    "\n",
    "# Laboratorio ETL: Análisis del Sistema Energético en España\n",
    "\n",
    "## Objetivo\n",
    "\n",
    "Durante todos los laboratorios de esta semana realizarás un proceso completo de ETL para analizar la relación entre la demanda, el consumo y la generación eléctrica en diferentes provincias de España a lo largo de un año. Además, complementarán este análisis con datos demográficos y económicos extraídos del Instituto Nacional de Estadística (INE). El **objetivo principal** del análisis es **examinar cómo la demanda, el consumo y la generación eléctrica en diferentes provincias de España a lo largo de los años están influenciados por factores demográficos y económicos, como la población y el PIB provincial**. El análisis busca identificar patrones y correlaciones entre estas variables para comprender mejor las dinámicas energéticas regionales y su relación con el desarrollo socioeconómico en España.\n",
    "\n",
    "Antes de realizar el análisis, vamos a definir las hipótesis con las que vamos a trabajar, las cuales definirán todo tu análisis y planteamiento de los laboratorios: \n",
    "\n",
    "- **Hipótesis 1: La demanda eléctrica está correlacionada con la población de la provincia.** Provincias con mayor población tienden a tener una mayor demanda eléctrica.\n",
    "  \n",
    "- **Hipótesis 2: El crecimiento económico (medido por el PIB) está correlacionado con el consumo eléctrico.** Las provincias con un PIB más alto o en crecimiento experimentan un mayor consumo de energía.\n",
    "\n",
    "- **Hipótesis 3: La proporción de generación renovable está relacionada con factores económicos o geográficos.** Provincias con un mayor desarrollo económico o con condiciones geográficas favorables (como más horas de sol o viento) tienden a generar más energía renovable.\n",
    "\n",
    "\n",
    "## Tareas Laboratorio Transformación\n",
    "\n",
    "En este laboratorio, tu objetivo será limpiar y preparar los datos extraídos previamente de diferentes fuentes para su posterior análisis. Trabajarás con datos provenientes de la API de Red Eléctrica Española (REE) y del Instituto Nacional de Estadística (INE). Estos datos incluyen información sobre demanda y generación eléctrica a nivel provincial, así como datos demográficos y económicos. \n",
    "\n",
    "\n",
    "- Cargar los Datos Extraídos:\n",
    "\n",
    "  - **Demanda Eléctrica:** Carga los datos de demanda eléctrica extraídos de la API de REE.\n",
    "\n",
    "  - **Generación Eléctrica:** Carga los datos de generación eléctrica diferenciados por tipo de energía (eólica, solar, hidroeléctrica, etc.) a nivel provincial.\n",
    "\n",
    "  - **Datos Demográficos:** Carga los datos demográficos por provincia extraídos de la web del INE.\n",
    "\n",
    "  - **Datos Económicos:** Carga los datos del PIB por provincia obtenidos del INE.\n",
    "\n",
    "\n",
    "-Limpieza de Datos:\n",
    "\n",
    "- Datos de la API de REE:\n",
    "\n",
    "  - **Demanda Eléctrica:**\n",
    "\n",
    "    - **Conversión de Timestamps:** Asegúrate de que las fechas estén correctamente formateadas en `datetime`. Si es necesario, convierte los datos a un formato uniforme (por ejemplo, `YYYY-MM` para datos mensuales).\n",
    "\n",
    "    - **Tratamiento de Valores Nulos:** Identifica y maneja los valores nulos en caso de que los haya. Puedes optar por eliminar filas con valores faltantes.\n",
    "\n",
    "    - **Estandarización de Nombres de Provincias:** Verifica que los nombres de las provincias estén estandarizados y coincidan en todos los conjuntos de datos. Si hay inconsistencias, corrígelas.\n",
    "\n",
    "  - **Generación Eléctrica:**\n",
    "\n",
    "    - **Desagregación de Tecnologías:** Asegúrate de que los datos estén correctamente desglosados por tipo de energía. Revisa que los campos correspondientes a energía eólica, solar, hidroeléctrica, etc., estén bien identificados y sin errores.\n",
    "\n",
    "    - **Normalización de Unidades:** Verifica que las unidades de energía estén estandarizadas (por ejemplo, MWh). Realiza las conversiones necesarias si se encuentran en otras unidades.\n",
    "\n",
    "    - **Identificación de Outliers:** Revisa los valores extremos o atípicos en la generación de energía y decide si deben ser tratados o eliminados.\n",
    "\n",
    "- Datos del INE:\n",
    "\n",
    "  - **Datos Demográficos:**\n",
    "\n",
    "    - **Consistencia en la Codificación de Provincias:** Asegúrate de que los nombres de las provincias en los datos demográficos coincidan con los nombres utilizados en los datos eléctricos.\n",
    "\n",
    "    - **Revisión de Categorías:** Verifica que las categorías de edad, sexo, y nacionalidad estén correctamente etiquetadas y sean consistentes en todo el dataset.\n",
    "\n",
    "    - **Manejo de Valores Faltantes:** Revisa la presencia de valores faltantes y decide cómo tratarlos (relleno, eliminación o sustitución).\n",
    "\n",
    "  - **Datos Económicos:**\n",
    "\n",
    "    - **Normalización del PIB:** Si los datos del PIB están en diferentes unidades o escalas, asegúrate de normalizarlos para que sean comparables entre provincias.\n",
    "\n",
    "    - **Agrupación Temporal:** Si los datos económicos están disponibles en diferentes periodos temporales, agrúpalos y normalízalos para que coincidan con los datos eléctricos en términos de granularidad temporal (mensual o anual).\n",
    "\n",
    "NOTA: Ten en cuenta que los datos los vamos a tener que insertar en una base de datos mañana, por lo que toda esta limpieza os recomendamos que la penséis para poder crear e insertar los datos mañana. "
   ]
  },
  {
   "cell_type": "markdown",
   "metadata": {},
   "source": [
    "---"
   ]
  },
  {
   "cell_type": "markdown",
   "metadata": {},
   "source": [
    "### Carga de datos"
   ]
  },
  {
   "cell_type": "code",
   "execution_count": 1,
   "metadata": {},
   "outputs": [],
   "source": [
    "import pandas as pd\n",
    "import json\n",
    "import os\n",
    "\n",
    "import warnings\n",
    "warnings.filterwarnings('ignore')\n",
    "\n",
    "from src.support import recorrer_anios, limpiar_df, df_ine, limpieza_ine_econ, limpieza_ine_demo"
   ]
  },
  {
   "cell_type": "markdown",
   "metadata": {},
   "source": [
    "---"
   ]
  },
  {
   "cell_type": "markdown",
   "metadata": {},
   "source": [
    "### Comunidades"
   ]
  },
  {
   "cell_type": "code",
   "execution_count": 2,
   "metadata": {},
   "outputs": [],
   "source": [
    "id_comunidades = {'Ceuta': 8744,\n",
    "                'Melilla': 8745,\n",
    "                'Andalucía': 4,\n",
    "                'Aragón': 5,\n",
    "                'Cantabria': 6,\n",
    "                'Castilla - La Mancha': 7,\n",
    "                'Castilla y León': 8,\n",
    "                'Cataluña': 9,\n",
    "                'País Vasco': 10,\n",
    "                'Principado de Asturias': 11,\n",
    "                'Comunidad de Madrid': 13,\n",
    "                'Comunidad Foral de Navarra': 14,\n",
    "                'Comunitat Valenciana': 15,\n",
    "                'Extremadura': 16,\n",
    "                'Galicia': 17,\n",
    "                'Illes Balears': 8743,\n",
    "                'Canarias': 8742,\n",
    "                'Región de Murcia': 21,\n",
    "                'La Rioja': 20}\n",
    "\n",
    "df_comunidades = pd.DataFrame(list(id_comunidades.items()), columns=['region', 'region_id'])"
   ]
  },
  {
   "cell_type": "markdown",
   "metadata": {},
   "source": [
    "### API"
   ]
  },
  {
   "cell_type": "code",
   "execution_count": 3,
   "metadata": {},
   "outputs": [],
   "source": [
    "tipos = ['demanda', 'generacion']\n",
    "lista_df = []\n",
    "\n",
    "for tipo in tipos:\n",
    "    ruta = f'datos/{tipo}'\n",
    "    lista_df.append(limpiar_df(recorrer_anios(ruta)))"
   ]
  },
  {
   "cell_type": "code",
   "execution_count": 4,
   "metadata": {},
   "outputs": [],
   "source": [
    "df_demanda = lista_df[0]\n",
    "df_generacion = lista_df[1]"
   ]
  },
  {
   "cell_type": "markdown",
   "metadata": {},
   "source": [
    "### INE"
   ]
  },
  {
   "cell_type": "markdown",
   "metadata": {},
   "source": [
    "Datos económicos"
   ]
  },
  {
   "cell_type": "code",
   "execution_count": 5,
   "metadata": {},
   "outputs": [],
   "source": [
    "ruta = 'datos/DatosEconomicos'\n",
    "\n",
    "df_econ = df_ine(ruta)\n",
    "df_econ, df_provincias = limpieza_ine_econ(df_econ)"
   ]
  },
  {
   "cell_type": "markdown",
   "metadata": {},
   "source": [
    "Datos demográficos"
   ]
  },
  {
   "cell_type": "code",
   "execution_count": 7,
   "metadata": {},
   "outputs": [],
   "source": [
    "ruta = 'datos/DatosDemograficos'\n",
    "\n",
    "df_demo = df_ine(ruta)\n",
    "df_demo = limpieza_ine_demo(df_demo)"
   ]
  },
  {
   "cell_type": "code",
   "execution_count": 9,
   "metadata": {},
   "outputs": [
    {
     "data": {
      "text/html": [
       "<div>\n",
       "<style scoped>\n",
       "    .dataframe tbody tr th:only-of-type {\n",
       "        vertical-align: middle;\n",
       "    }\n",
       "\n",
       "    .dataframe tbody tr th {\n",
       "        vertical-align: top;\n",
       "    }\n",
       "\n",
       "    .dataframe thead th {\n",
       "        text-align: right;\n",
       "    }\n",
       "</style>\n",
       "<table border=\"1\" class=\"dataframe\">\n",
       "  <thead>\n",
       "    <tr style=\"text-align: right;\">\n",
       "      <th></th>\n",
       "      <th>value</th>\n",
       "      <th>percentage</th>\n",
       "      <th>category</th>\n",
       "      <th>region_id</th>\n",
       "      <th>year</th>\n",
       "      <th>month</th>\n",
       "    </tr>\n",
       "  </thead>\n",
       "  <tbody>\n",
       "    <tr>\n",
       "      <th>0</th>\n",
       "      <td>2.929160e+02</td>\n",
       "      <td>0.003855</td>\n",
       "      <td>Hidráulica</td>\n",
       "      <td>8742</td>\n",
       "      <td>2019</td>\n",
       "      <td>1</td>\n",
       "    </tr>\n",
       "    <tr>\n",
       "      <th>1</th>\n",
       "      <td>2.650490e+02</td>\n",
       "      <td>0.003690</td>\n",
       "      <td>Hidráulica</td>\n",
       "      <td>8742</td>\n",
       "      <td>2019</td>\n",
       "      <td>2</td>\n",
       "    </tr>\n",
       "    <tr>\n",
       "      <th>2</th>\n",
       "      <td>2.983150e+02</td>\n",
       "      <td>0.002388</td>\n",
       "      <td>Hidráulica</td>\n",
       "      <td>8742</td>\n",
       "      <td>2019</td>\n",
       "      <td>3</td>\n",
       "    </tr>\n",
       "    <tr>\n",
       "      <th>3</th>\n",
       "      <td>2.967530e+02</td>\n",
       "      <td>0.003143</td>\n",
       "      <td>Hidráulica</td>\n",
       "      <td>8742</td>\n",
       "      <td>2019</td>\n",
       "      <td>4</td>\n",
       "    </tr>\n",
       "    <tr>\n",
       "      <th>4</th>\n",
       "      <td>3.059420e+02</td>\n",
       "      <td>0.002387</td>\n",
       "      <td>Hidráulica</td>\n",
       "      <td>8742</td>\n",
       "      <td>2019</td>\n",
       "      <td>5</td>\n",
       "    </tr>\n",
       "    <tr>\n",
       "      <th>...</th>\n",
       "      <td>...</td>\n",
       "      <td>...</td>\n",
       "      <td>...</td>\n",
       "      <td>...</td>\n",
       "      <td>...</td>\n",
       "      <td>...</td>\n",
       "    </tr>\n",
       "    <tr>\n",
       "      <th>7</th>\n",
       "      <td>8.263418e+05</td>\n",
       "      <td>1.000000</td>\n",
       "      <td>Generación renovable</td>\n",
       "      <td>17</td>\n",
       "      <td>2020</td>\n",
       "      <td>8</td>\n",
       "    </tr>\n",
       "    <tr>\n",
       "      <th>8</th>\n",
       "      <td>1.016119e+06</td>\n",
       "      <td>1.000000</td>\n",
       "      <td>Generación renovable</td>\n",
       "      <td>17</td>\n",
       "      <td>2020</td>\n",
       "      <td>9</td>\n",
       "    </tr>\n",
       "    <tr>\n",
       "      <th>9</th>\n",
       "      <td>1.429749e+06</td>\n",
       "      <td>1.000000</td>\n",
       "      <td>Generación renovable</td>\n",
       "      <td>17</td>\n",
       "      <td>2020</td>\n",
       "      <td>10</td>\n",
       "    </tr>\n",
       "    <tr>\n",
       "      <th>10</th>\n",
       "      <td>1.676691e+06</td>\n",
       "      <td>1.000000</td>\n",
       "      <td>Generación renovable</td>\n",
       "      <td>17</td>\n",
       "      <td>2020</td>\n",
       "      <td>11</td>\n",
       "    </tr>\n",
       "    <tr>\n",
       "      <th>11</th>\n",
       "      <td>2.488911e+06</td>\n",
       "      <td>1.000000</td>\n",
       "      <td>Generación renovable</td>\n",
       "      <td>17</td>\n",
       "      <td>2020</td>\n",
       "      <td>12</td>\n",
       "    </tr>\n",
       "  </tbody>\n",
       "</table>\n",
       "<p>3557 rows × 6 columns</p>\n",
       "</div>"
      ],
      "text/plain": [
       "           value  percentage              category  region_id  year  month\n",
       "0   2.929160e+02    0.003855            Hidráulica       8742  2019      1\n",
       "1   2.650490e+02    0.003690            Hidráulica       8742  2019      2\n",
       "2   2.983150e+02    0.002388            Hidráulica       8742  2019      3\n",
       "3   2.967530e+02    0.003143            Hidráulica       8742  2019      4\n",
       "4   3.059420e+02    0.002387            Hidráulica       8742  2019      5\n",
       "..           ...         ...                   ...        ...   ...    ...\n",
       "7   8.263418e+05    1.000000  Generación renovable         17  2020      8\n",
       "8   1.016119e+06    1.000000  Generación renovable         17  2020      9\n",
       "9   1.429749e+06    1.000000  Generación renovable         17  2020     10\n",
       "10  1.676691e+06    1.000000  Generación renovable         17  2020     11\n",
       "11  2.488911e+06    1.000000  Generación renovable         17  2020     12\n",
       "\n",
       "[3557 rows x 6 columns]"
      ]
     },
     "execution_count": 9,
     "metadata": {},
     "output_type": "execute_result"
    }
   ],
   "source": [
    "df_generacion"
   ]
  },
  {
   "cell_type": "code",
   "execution_count": null,
   "metadata": {},
   "outputs": [],
   "source": []
  }
 ],
 "metadata": {
  "kernelspec": {
   "display_name": "proyecto5",
   "language": "python",
   "name": "python3"
  },
  "language_info": {
   "codemirror_mode": {
    "name": "ipython",
    "version": 3
   },
   "file_extension": ".py",
   "mimetype": "text/x-python",
   "name": "python",
   "nbconvert_exporter": "python",
   "pygments_lexer": "ipython3",
   "version": "3.12.7"
  }
 },
 "nbformat": 4,
 "nbformat_minor": 2
}
