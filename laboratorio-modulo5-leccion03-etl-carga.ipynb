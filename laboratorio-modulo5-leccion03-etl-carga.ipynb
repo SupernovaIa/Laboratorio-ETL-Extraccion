{
 "cells": [
  {
   "cell_type": "markdown",
   "metadata": {},
   "source": [
    "<div style=\"text-align: center;\">\n",
    "  <img src=\"https://github.com/Hack-io-Data/Imagenes/blob/main/01-LogosHackio/logo_amarillo@4x.png?raw=true\" alt=\"esquema\" />\n",
    "</div>"
   ]
  },
  {
   "cell_type": "markdown",
   "metadata": {},
   "source": [
    "\n",
    "# Laboratorio ETL: Análisis del Sistema Energético en España\n",
    "\n",
    "## Objetivo\n",
    "\n",
    "Durante todos los laboratorios de esta semana realizarás un proceso completo de ETL para analizar la relación entre la demanda, el consumo y la generación eléctrica en diferentes provincias de España a lo largo de un año. Además, complementarán este análisis con datos demográficos y económicos extraídos del Instituto Nacional de Estadística (INE). El **objetivo principal** del análisis es **examinar cómo la demanda, el consumo y la generación eléctrica en diferentes provincias de España a lo largo de los años están influenciados por factores demográficos y económicos, como la población y el PIB provincial**. El análisis busca identificar patrones y correlaciones entre estas variables para comprender mejor las dinámicas energéticas regionales y su relación con el desarrollo socioeconómico en España.\n",
    "\n",
    "Antes de realizar el análisis, vamos a definir las hipótesis con las que vamos a trabajar, las cuales definirán todo tu análisis y planteamiento de los laboratorios: \n",
    "\n",
    "- **Hipótesis 1: La demanda eléctrica está correlacionada con la población de la provincia.** Provincias con mayor población tienden a tener una mayor demanda eléctrica.\n",
    "  \n",
    "- **Hipótesis 2: El crecimiento económico (medido por el PIB) está correlacionado con el consumo eléctrico.** Las provincias con un PIB más alto o en crecimiento experimentan un mayor consumo de energía.\n",
    "\n",
    "- **Hipótesis 3: La proporción de generación renovable está relacionada con factores económicos o geográficos.** Provincias con un mayor desarrollo económico o con condiciones geográficas favorables (como más horas de sol o viento) tienden a generar más energía renovable.\n",
    "\n",
    "\n",
    "## Tareas Laboratorio Carga\n",
    "\n",
    "En este laboratorio, tu objetivo será diseñar la estructura de una base de datos relacional, crear las tablas necesarias y cargar en ellas los datos limpios y preparados que obtuviste en el laboratorio anterior. Trabajarás con datos relacionados con la demanda, generación eléctrica, y variables socioeconómicas, almacenándolos de manera eficiente para facilitar el análisis y las consultas posteriores.\n",
    "\n",
    "\n",
    "- **Diseño de la Base de Datos:** Define una estructura de base de datos relacional que sea adecuada para almacenar los datos de demanda eléctrica, generación eléctrica, población y PIB por provincia.\n",
    "\n",
    "- **Creación de la Base de Datos:** Escribe los scripts SQL necesarios para crear las tablas definidas en la estructura de la base de datos. Asegúrate de definir correctamente los tipos de datos y las restricciones (e.g., `NOT NULL`, `UNIQUE`).\n",
    "\n",
    "- **Carga de Datos en la Base de Datos:** Utiliza Python para cargar los datos limpios y preparados en las tablas de la base de datos. Asegúrate de que los datos se insertan correctamente, manejando posibles errores o inconsistencias en los datos.\n"
   ]
  },
  {
   "cell_type": "code",
   "execution_count": 1,
   "metadata": {},
   "outputs": [],
   "source": [
    "import pandas as pd\n",
    "\n",
    "from src.support_db import establecer_conn, crear_db\n",
    "import src.support_queries as sqc"
   ]
  },
  {
   "cell_type": "markdown",
   "metadata": {},
   "source": [
    "### Carga de datos"
   ]
  },
  {
   "cell_type": "code",
   "execution_count": 2,
   "metadata": {},
   "outputs": [],
   "source": [
    "df_demanda = pd.read_csv('datos/output/demanda.csv')\n",
    "df_demo = pd.read_csv('datos/output/demografico.csv')\n",
    "df_econ = pd.read_csv('datos/output/economico.csv')\n",
    "df_generacion = pd.read_csv('datos/output/generacion.csv')\n",
    "df_provincias = pd.read_csv('datos/output/provincias.csv')"
   ]
  },
  {
   "cell_type": "markdown",
   "metadata": {},
   "source": [
    "Para relacionar adecuadamente las tablas necesitamos una tabla adicional. Usaremos `region_id`para establecer esta relación."
   ]
  },
  {
   "cell_type": "code",
   "execution_count": 3,
   "metadata": {},
   "outputs": [],
   "source": [
    "id_comunidades = {'Ceuta': 8744,\n",
    "                'Melilla': 8745,\n",
    "                'Andalucía': 4,\n",
    "                'Aragón': 5,\n",
    "                'Cantabria': 6,\n",
    "                'Castilla - La Mancha': 7,\n",
    "                'Castilla y León': 8,\n",
    "                'Cataluña': 9,\n",
    "                'País Vasco': 10,\n",
    "                'Principado de Asturias': 11,\n",
    "                'Comunidad de Madrid': 13,\n",
    "                'Comunidad Foral de Navarra': 14,\n",
    "                'Comunitat Valenciana': 15,\n",
    "                'Extremadura': 16,\n",
    "                'Galicia': 17,\n",
    "                'Illes Balears': 8743,\n",
    "                'Canarias': 8742,\n",
    "                'Región de Murcia': 21,\n",
    "                'La Rioja': 20}\n",
    "\n",
    "# Nos vale con una lista de tuplas\n",
    "valores_region = list(id_comunidades.items())"
   ]
  },
  {
   "cell_type": "code",
   "execution_count": 4,
   "metadata": {},
   "outputs": [
    {
     "name": "stdout",
     "output_type": "stream",
     "text": [
      "La base de datos ya existe\n"
     ]
    }
   ],
   "source": [
    "# Creamos la base de datos\n",
    "crear_db('energia')"
   ]
  },
  {
   "cell_type": "code",
   "execution_count": 5,
   "metadata": {},
   "outputs": [],
   "source": [
    "# Creacion tablas\n",
    "# Establecemos conexión\n",
    "conexion = establecer_conn(\"energia\", \"admin\", \"my_user\")\n",
    "\n",
    "# Creamos cada una de las tablas de la base de datos\n",
    "conexion.cursor().execute(sqc.query_creacion_regiones)\n",
    "conexion.cursor().execute(sqc.query_creacion_provincias)\n",
    "conexion.cursor().execute(sqc.query_creacion_demografico)\n",
    "conexion.cursor().execute(sqc.query_creacion_economico)\n",
    "conexion.cursor().execute(sqc.query_creacion_generacion)\n",
    "conexion.cursor().execute(sqc.query_creacion_demanda)\n",
    "conexion.close()"
   ]
  },
  {
   "cell_type": "code",
   "execution_count": 6,
   "metadata": {},
   "outputs": [],
   "source": [
    "valores_provincias = [tuple(row) for row in df_provincias.values]\n",
    "valores_demo = [tuple(row) for row in df_demo.values]\n",
    "valores_econ = [tuple(row) for row in df_econ.values]\n",
    "valores_generacion = [tuple(row) for row in df_generacion.values]\n",
    "valores_demanda = [tuple(row) for row in df_demanda.values]"
   ]
  },
  {
   "cell_type": "code",
   "execution_count": 7,
   "metadata": {},
   "outputs": [],
   "source": [
    "# Inserción datos\n",
    "# Establecemos conexión\n",
    "conexion = establecer_conn(\"energia\", \"admin\", \"my_user\")\n",
    "cursor = conexion.cursor()\n",
    "\n",
    "cursor.executemany(sqc.query_insercion_regiones, valores_region)\n",
    "cursor.executemany(sqc.query_insercion_provincias, valores_provincias)\n",
    "cursor.executemany(sqc.query_insercion_demografico, valores_demo)\n",
    "cursor.executemany(sqc.query_insercion_economico, valores_econ)\n",
    "cursor.executemany(sqc.query_insercion_generacion, valores_generacion)\n",
    "cursor.executemany(sqc.query_insercion_demanda, valores_demanda)\n",
    "\n",
    "cursor.close()\n",
    "conexion.close()"
   ]
  }
 ],
 "metadata": {
  "kernelspec": {
   "display_name": "proyecto5",
   "language": "python",
   "name": "python3"
  },
  "language_info": {
   "codemirror_mode": {
    "name": "ipython",
    "version": 3
   },
   "file_extension": ".py",
   "mimetype": "text/x-python",
   "name": "python",
   "nbconvert_exporter": "python",
   "pygments_lexer": "ipython3",
   "version": "3.12.7"
  }
 },
 "nbformat": 4,
 "nbformat_minor": 2
}
